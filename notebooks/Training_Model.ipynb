{
 "cells": [
  {
   "cell_type": "code",
   "execution_count": 34,
   "id": "57b7d73b",
   "metadata": {},
   "outputs": [],
   "source": [
    "import joblib\n",
    "import pandas as pd\n",
    "import numpy as np\n",
    "import tensorflow as tf\n",
    "from sklearn.metrics import mean_squared_log_error\n",
    "from tensorflow.keras.models import Sequential\n",
    "from tensorflow.keras.layers import LSTM, Dense, Dropout"
   ]
  },
  {
   "cell_type": "code",
   "execution_count": 35,
   "id": "1883424a",
   "metadata": {},
   "outputs": [],
   "source": [
    "def train_catboost(X_train, y_train, X_val, y_val, params, cat_features=None):\n",
    "    \"\"\"\n",
    "    Train a CatBoostRegressor model and predict on validation data.\n",
    "\n",
    "    Parameters:\n",
    "        X_train (array-like or DataFrame): Training features.\n",
    "        y_train (array-like or Series): Training target values.\n",
    "        X_val (array-like or DataFrame): Validation features.\n",
    "        y_val (array-like or Series): Validation target values (used for shape checking).\n",
    "        params (dict): Parameters for CatBoostRegressor.\n",
    "\n",
    "    Returns:\n",
    "        np.ndarray: Predictions for X_val.\n",
    "\n",
    "    Raises:\n",
    "        ValueError: If input data dimensions do not match.\n",
    "        Exception: If model training or prediction fails.\n",
    "    \"\"\"\n",
    "    try:\n",
    "        # Basic input validation\n",
    "        if len(X_train) != len(y_train):\n",
    "            raise ValueError(\"X_train and y_train must have the same number of samples.\")\n",
    "        if len(X_val) != len(y_val):\n",
    "            raise ValueError(\"X_val and y_val must have the same number of samples.\")\n",
    "        model = cb.CatBoostRegressor(**params)\n",
    "        model.fit(X_train, y_train, cat_features=cat_features, verbose=0)\n",
    "        preds = model.predict(X_val)\n",
    "\n",
    "        joblib.dump(model, \"catboost_model.pkl\")\n",
    "\n",
    "        return preds\n",
    "    \n",
    "    except Exception as e:\n",
    "        print(f\" Error in train_catboost: {e}\")\n",
    "        raise\n",
    "\n",
    "\n",
    "def train_lstm(X_train, y_train, X_val, y_val, input_shape, params):\n",
    "    model = Sequential([\n",
    "        LSTM(params['lstm_units'], return_sequences=True, input_shape=input_shape),\n",
    "        Dropout(params['dropout_rate']),\n",
    "        LSTM(params['lstm_units'] // 2, return_sequences=False),\n",
    "        Dropout(params['dropout_rate']),\n",
    "        Dense(params['dense_units'], activation='relu'),\n",
    "        Dense(1)\n",
    "    ])\n",
    "    \n",
    "    model.compile(optimizer=tf.keras.optimizers.Adam(learning_rate=params['learning_rate']), loss='mse')\n",
    "    \n",
    "   \n",
    "    \n",
    "    model.fit(X_train, y_train,\n",
    "              validation_data=(X_val, y_val),\n",
    "              epochs=15,  # Reduce during tuning\n",
    "              batch_size=params['batch_size'],\n",
    "              verbose=0,\n",
    "             )\n",
    "    \n",
    "    pred = model.predict(X_val, verbose=0)\n",
    "    \n",
    "    tf.keras.backend.clear_session()  # better after training to fully release resources\n",
    "    \n",
    "    return pred.flatten(), model"
   ]
  },
  {
   "cell_type": "code",
   "execution_count": 25,
   "id": "f7f0a468",
   "metadata": {},
   "outputs": [],
   "source": [
    "X_train = pd.read_csv('X_train_catboost.csv')\n",
    "y_train = pd.read_csv('y_train_catboost.csv')\n",
    "X_val = pd.read_csv('X_val_catboost.csv')\n",
    "y_val = pd.read_csv('y_val_catboost.csv')  "
   ]
  },
  {
   "cell_type": "code",
   "execution_count": 26,
   "id": "d51cc341",
   "metadata": {},
   "outputs": [
    {
     "data": {
      "text/html": [
       "<div>\n",
       "<style scoped>\n",
       "    .dataframe tbody tr th:only-of-type {\n",
       "        vertical-align: middle;\n",
       "    }\n",
       "\n",
       "    .dataframe tbody tr th {\n",
       "        vertical-align: top;\n",
       "    }\n",
       "\n",
       "    .dataframe thead th {\n",
       "        text-align: right;\n",
       "    }\n",
       "</style>\n",
       "<table border=\"1\" class=\"dataframe\">\n",
       "  <thead>\n",
       "    <tr style=\"text-align: right;\">\n",
       "      <th></th>\n",
       "      <th>shop_id</th>\n",
       "      <th>item_id</th>\n",
       "      <th>lag_1</th>\n",
       "      <th>lag_2</th>\n",
       "      <th>lag_3</th>\n",
       "      <th>lag_6</th>\n",
       "      <th>lag_12</th>\n",
       "      <th>month</th>\n",
       "      <th>year</th>\n",
       "      <th>quarter</th>\n",
       "      <th>is_month_start</th>\n",
       "      <th>is_month_end</th>\n",
       "      <th>season</th>\n",
       "      <th>rolling_mean_3</th>\n",
       "      <th>trend_1_2</th>\n",
       "      <th>lag_1_ratio_2</th>\n",
       "    </tr>\n",
       "  </thead>\n",
       "  <tbody>\n",
       "    <tr>\n",
       "      <th>0</th>\n",
       "      <td>101</td>\n",
       "      <td>100482</td>\n",
       "      <td>21432.0</td>\n",
       "      <td>10716.0</td>\n",
       "      <td>10716.0</td>\n",
       "      <td>21432.0</td>\n",
       "      <td>10716.0</td>\n",
       "      <td>10</td>\n",
       "      <td>2014</td>\n",
       "      <td>4</td>\n",
       "      <td>0</td>\n",
       "      <td>1</td>\n",
       "      <td>3</td>\n",
       "      <td>14288.000000</td>\n",
       "      <td>10716.0</td>\n",
       "      <td>1.999813</td>\n",
       "    </tr>\n",
       "    <tr>\n",
       "      <th>1</th>\n",
       "      <td>101</td>\n",
       "      <td>100482</td>\n",
       "      <td>10716.0</td>\n",
       "      <td>21432.0</td>\n",
       "      <td>10716.0</td>\n",
       "      <td>10716.0</td>\n",
       "      <td>10716.0</td>\n",
       "      <td>2</td>\n",
       "      <td>2015</td>\n",
       "      <td>1</td>\n",
       "      <td>0</td>\n",
       "      <td>1</td>\n",
       "      <td>0</td>\n",
       "      <td>14288.000000</td>\n",
       "      <td>-10716.0</td>\n",
       "      <td>0.499977</td>\n",
       "    </tr>\n",
       "    <tr>\n",
       "      <th>2</th>\n",
       "      <td>101</td>\n",
       "      <td>100482</td>\n",
       "      <td>42864.0</td>\n",
       "      <td>10716.0</td>\n",
       "      <td>21432.0</td>\n",
       "      <td>21432.0</td>\n",
       "      <td>21432.0</td>\n",
       "      <td>3</td>\n",
       "      <td>2015</td>\n",
       "      <td>1</td>\n",
       "      <td>0</td>\n",
       "      <td>1</td>\n",
       "      <td>1</td>\n",
       "      <td>25004.000000</td>\n",
       "      <td>32148.0</td>\n",
       "      <td>3.999627</td>\n",
       "    </tr>\n",
       "    <tr>\n",
       "      <th>3</th>\n",
       "      <td>101</td>\n",
       "      <td>100482</td>\n",
       "      <td>10716.0</td>\n",
       "      <td>42864.0</td>\n",
       "      <td>10716.0</td>\n",
       "      <td>10716.0</td>\n",
       "      <td>10716.0</td>\n",
       "      <td>7</td>\n",
       "      <td>2015</td>\n",
       "      <td>3</td>\n",
       "      <td>0</td>\n",
       "      <td>1</td>\n",
       "      <td>2</td>\n",
       "      <td>21432.000000</td>\n",
       "      <td>-32148.0</td>\n",
       "      <td>0.249994</td>\n",
       "    </tr>\n",
       "    <tr>\n",
       "      <th>4</th>\n",
       "      <td>101</td>\n",
       "      <td>100482</td>\n",
       "      <td>10716.0</td>\n",
       "      <td>10716.0</td>\n",
       "      <td>42864.0</td>\n",
       "      <td>10716.0</td>\n",
       "      <td>21432.0</td>\n",
       "      <td>8</td>\n",
       "      <td>2015</td>\n",
       "      <td>3</td>\n",
       "      <td>0</td>\n",
       "      <td>1</td>\n",
       "      <td>2</td>\n",
       "      <td>21432.000000</td>\n",
       "      <td>0.0</td>\n",
       "      <td>0.999907</td>\n",
       "    </tr>\n",
       "    <tr>\n",
       "      <th>...</th>\n",
       "      <td>...</td>\n",
       "      <td>...</td>\n",
       "      <td>...</td>\n",
       "      <td>...</td>\n",
       "      <td>...</td>\n",
       "      <td>...</td>\n",
       "      <td>...</td>\n",
       "      <td>...</td>\n",
       "      <td>...</td>\n",
       "      <td>...</td>\n",
       "      <td>...</td>\n",
       "      <td>...</td>\n",
       "      <td>...</td>\n",
       "      <td>...</td>\n",
       "      <td>...</td>\n",
       "      <td>...</td>\n",
       "    </tr>\n",
       "    <tr>\n",
       "      <th>51014</th>\n",
       "      <td>151</td>\n",
       "      <td>105821</td>\n",
       "      <td>2108.0</td>\n",
       "      <td>4216.0</td>\n",
       "      <td>6324.0</td>\n",
       "      <td>12648.0</td>\n",
       "      <td>3892.0</td>\n",
       "      <td>10</td>\n",
       "      <td>2014</td>\n",
       "      <td>4</td>\n",
       "      <td>0</td>\n",
       "      <td>1</td>\n",
       "      <td>3</td>\n",
       "      <td>4216.000000</td>\n",
       "      <td>-2108.0</td>\n",
       "      <td>0.499881</td>\n",
       "    </tr>\n",
       "    <tr>\n",
       "      <th>51015</th>\n",
       "      <td>151</td>\n",
       "      <td>105821</td>\n",
       "      <td>10380.0</td>\n",
       "      <td>2108.0</td>\n",
       "      <td>4216.0</td>\n",
       "      <td>8432.0</td>\n",
       "      <td>8432.0</td>\n",
       "      <td>11</td>\n",
       "      <td>2014</td>\n",
       "      <td>4</td>\n",
       "      <td>0</td>\n",
       "      <td>1</td>\n",
       "      <td>3</td>\n",
       "      <td>5568.000000</td>\n",
       "      <td>8272.0</td>\n",
       "      <td>4.921764</td>\n",
       "    </tr>\n",
       "    <tr>\n",
       "      <th>51016</th>\n",
       "      <td>151</td>\n",
       "      <td>105821</td>\n",
       "      <td>12975.0</td>\n",
       "      <td>10380.0</td>\n",
       "      <td>2108.0</td>\n",
       "      <td>2108.0</td>\n",
       "      <td>4216.0</td>\n",
       "      <td>12</td>\n",
       "      <td>2014</td>\n",
       "      <td>4</td>\n",
       "      <td>0</td>\n",
       "      <td>1</td>\n",
       "      <td>0</td>\n",
       "      <td>8487.666667</td>\n",
       "      <td>2595.0</td>\n",
       "      <td>1.249880</td>\n",
       "    </tr>\n",
       "    <tr>\n",
       "      <th>51017</th>\n",
       "      <td>151</td>\n",
       "      <td>105821</td>\n",
       "      <td>15570.0</td>\n",
       "      <td>12975.0</td>\n",
       "      <td>10380.0</td>\n",
       "      <td>6324.0</td>\n",
       "      <td>4216.0</td>\n",
       "      <td>1</td>\n",
       "      <td>2015</td>\n",
       "      <td>1</td>\n",
       "      <td>0</td>\n",
       "      <td>1</td>\n",
       "      <td>0</td>\n",
       "      <td>12975.000000</td>\n",
       "      <td>2595.0</td>\n",
       "      <td>1.199908</td>\n",
       "    </tr>\n",
       "    <tr>\n",
       "      <th>51018</th>\n",
       "      <td>151</td>\n",
       "      <td>105821</td>\n",
       "      <td>16868.0</td>\n",
       "      <td>15570.0</td>\n",
       "      <td>12975.0</td>\n",
       "      <td>4216.0</td>\n",
       "      <td>12648.0</td>\n",
       "      <td>2</td>\n",
       "      <td>2015</td>\n",
       "      <td>1</td>\n",
       "      <td>0</td>\n",
       "      <td>1</td>\n",
       "      <td>0</td>\n",
       "      <td>15137.666667</td>\n",
       "      <td>1298.0</td>\n",
       "      <td>1.083296</td>\n",
       "    </tr>\n",
       "  </tbody>\n",
       "</table>\n",
       "<p>51019 rows × 16 columns</p>\n",
       "</div>"
      ],
      "text/plain": [
       "       shop_id  item_id    lag_1    lag_2    lag_3    lag_6   lag_12  month  \\\n",
       "0          101   100482  21432.0  10716.0  10716.0  21432.0  10716.0     10   \n",
       "1          101   100482  10716.0  21432.0  10716.0  10716.0  10716.0      2   \n",
       "2          101   100482  42864.0  10716.0  21432.0  21432.0  21432.0      3   \n",
       "3          101   100482  10716.0  42864.0  10716.0  10716.0  10716.0      7   \n",
       "4          101   100482  10716.0  10716.0  42864.0  10716.0  21432.0      8   \n",
       "...        ...      ...      ...      ...      ...      ...      ...    ...   \n",
       "51014      151   105821   2108.0   4216.0   6324.0  12648.0   3892.0     10   \n",
       "51015      151   105821  10380.0   2108.0   4216.0   8432.0   8432.0     11   \n",
       "51016      151   105821  12975.0  10380.0   2108.0   2108.0   4216.0     12   \n",
       "51017      151   105821  15570.0  12975.0  10380.0   6324.0   4216.0      1   \n",
       "51018      151   105821  16868.0  15570.0  12975.0   4216.0  12648.0      2   \n",
       "\n",
       "       year  quarter  is_month_start  is_month_end  season  rolling_mean_3  \\\n",
       "0      2014        4               0             1       3    14288.000000   \n",
       "1      2015        1               0             1       0    14288.000000   \n",
       "2      2015        1               0             1       1    25004.000000   \n",
       "3      2015        3               0             1       2    21432.000000   \n",
       "4      2015        3               0             1       2    21432.000000   \n",
       "...     ...      ...             ...           ...     ...             ...   \n",
       "51014  2014        4               0             1       3     4216.000000   \n",
       "51015  2014        4               0             1       3     5568.000000   \n",
       "51016  2014        4               0             1       0     8487.666667   \n",
       "51017  2015        1               0             1       0    12975.000000   \n",
       "51018  2015        1               0             1       0    15137.666667   \n",
       "\n",
       "       trend_1_2  lag_1_ratio_2  \n",
       "0        10716.0       1.999813  \n",
       "1       -10716.0       0.499977  \n",
       "2        32148.0       3.999627  \n",
       "3       -32148.0       0.249994  \n",
       "4            0.0       0.999907  \n",
       "...          ...            ...  \n",
       "51014    -2108.0       0.499881  \n",
       "51015     8272.0       4.921764  \n",
       "51016     2595.0       1.249880  \n",
       "51017     2595.0       1.199908  \n",
       "51018     1298.0       1.083296  \n",
       "\n",
       "[51019 rows x 16 columns]"
      ]
     },
     "execution_count": 26,
     "metadata": {},
     "output_type": "execute_result"
    }
   ],
   "source": [
    "X_train"
   ]
  },
  {
   "cell_type": "code",
   "execution_count": 27,
   "id": "d30c8f09",
   "metadata": {},
   "outputs": [],
   "source": [
    "cat_features = ['shop_id', 'item_id', 'month', 'year', 'quarter', 'season', 'is_month_end', 'is_month_start']"
   ]
  },
  {
   "cell_type": "code",
   "execution_count": 28,
   "id": "af623b5a",
   "metadata": {},
   "outputs": [],
   "source": [
    "best_params = {\n",
    "    'iterations': 383,\n",
    "    'learning_rate': 0.08225703868286412,\n",
    "    'depth': 5,\n",
    "    'l2_leaf_reg': 9.944359434041193,\n",
    "    'border_count': 69,\n",
    "    'min_data_in_leaf': 54,\n",
    "    'bagging_temperature': 0.5419965715599584,\n",
    "    'random_strength': 0.17570423922635958,\n",
    "    'verbose': False,\n",
    "    'random_seed': 42  \n",
    "}\n"
   ]
  },
  {
   "cell_type": "code",
   "execution_count": 29,
   "id": "745f8979",
   "metadata": {},
   "outputs": [],
   "source": [
    "def log_transform(y):\n",
    "    \"\"\"Apply logarithmic transformation to the target variable.\n",
    "     log(0) is undefined; adding 1 handles zero targets gracefully\n",
    "    \"\"\"\n",
    "    return np.log1p(y)"
   ]
  },
  {
   "cell_type": "code",
   "execution_count": 30,
   "id": "48f41776",
   "metadata": {},
   "outputs": [],
   "source": [
    "def inverse_log_transform(y):\n",
    "    \"\"\"\n",
    "    Inverse the logarithmic transformation applied to the target variable.\n",
    "    Converts the predictions back to the original scale.\"\"\"\n",
    "    return np.expm1(y)"
   ]
  },
  {
   "cell_type": "code",
   "execution_count": 36,
   "id": "b9518a1d",
   "metadata": {},
   "outputs": [],
   "source": [
    "import catboost as cb\n",
    "y_train_log = log_transform(y_train)\n",
    "y_val_log = log_transform(y_val)\n",
    "model_preds_log = train_catboost(X_train, y_train_log, X_val, y_val_log, best_params, cat_features)\n",
    "preds = inverse_log_transform(model_preds_log)"
   ]
  },
  {
   "cell_type": "code",
   "execution_count": 32,
   "id": "e21de281",
   "metadata": {},
   "outputs": [
    {
     "data": {
      "text/plain": [
       "array([7710.63308696, 7235.56450653, 5311.57453287, ..., 1239.16785576,\n",
       "       1171.40664465, 1003.57445215])"
      ]
     },
     "execution_count": 32,
     "metadata": {},
     "output_type": "execute_result"
    }
   ],
   "source": [
    "preds"
   ]
  },
  {
   "cell_type": "code",
   "execution_count": 33,
   "id": "d5ffb03d",
   "metadata": {},
   "outputs": [
    {
     "name": "stdout",
     "output_type": "stream",
     "text": [
      "Validation RMSLE: 0.6040\n"
     ]
    }
   ],
   "source": [
    "from sklearn.metrics import mean_squared_log_error\n",
    "import numpy as np\n",
    "\n",
    "def rmsle(y_true, y_pred):\n",
    "    return np.sqrt(mean_squared_log_error(y_true, y_pred))\n",
    "\n",
    "# Assuming y_val and preds are your true and predicted values (both on original scale)\n",
    "score = rmsle(y_val, preds)\n",
    "print(f\"Validation RMSLE: {score:.4f}\")\n"
   ]
  },
  {
   "cell_type": "markdown",
   "id": "d7bcbeb0",
   "metadata": {},
   "source": [
    "## LSTM"
   ]
  },
  {
   "cell_type": "code",
   "execution_count": 20,
   "id": "90da6499",
   "metadata": {},
   "outputs": [],
   "source": [
    "X_train_lstm = np.load('X_train_lstm.npy')\n",
    "y_train_lstm = np.load('y_train_lstm.npy')\n",
    "X_val_lstm = np.load('X_val_lstm.npy')\n",
    "y_val_lstm = np.load('y_val_lstm.npy')"
   ]
  },
  {
   "cell_type": "code",
   "execution_count": 22,
   "id": "285ded47",
   "metadata": {},
   "outputs": [
    {
     "data": {
      "text/plain": [
       "(89765, 12, 6)"
      ]
     },
     "execution_count": 22,
     "metadata": {},
     "output_type": "execute_result"
    }
   ],
   "source": [
    "X_train_lstm.shape"
   ]
  },
  {
   "cell_type": "code",
   "execution_count": 10,
   "id": "0bcbfa14",
   "metadata": {},
   "outputs": [
    {
     "data": {
      "text/plain": [
       "(12, 6)"
      ]
     },
     "execution_count": 10,
     "metadata": {},
     "output_type": "execute_result"
    }
   ],
   "source": [
    "best_params = {\n",
    "    'lstm_units': 116,\n",
    "    'dense_units': 59,\n",
    "    'dropout_rate': 0.1472,\n",
    "    'learning_rate': 0.0048,\n",
    "    'batch_size': 16\n",
    "}\n",
    "input_shape = (X_train_lstm.shape[1], X_train_lstm.shape[2])\n",
    "input_shape"
   ]
  },
  {
   "cell_type": "code",
   "execution_count": 15,
   "id": "3263a3de",
   "metadata": {},
   "outputs": [],
   "source": [
    "pred_log, model = train_lstm(\n",
    "    X_train=X_train_lstm,\n",
    "    y_train=y_train_lstm,\n",
    "    X_val=X_val_lstm,\n",
    "    y_val=y_val_lstm,\n",
    "    input_shape=input_shape,\n",
    "    params=best_params\n",
    ")"
   ]
  },
  {
   "cell_type": "code",
   "execution_count": 16,
   "id": "2f163661",
   "metadata": {},
   "outputs": [],
   "source": [
    "from numpy import expm1\n",
    "pred_original = expm1(pred_log)"
   ]
  },
  {
   "cell_type": "code",
   "execution_count": 19,
   "id": "69c4833b",
   "metadata": {},
   "outputs": [
    {
     "name": "stderr",
     "output_type": "stream",
     "text": [
      "WARNING:absl:You are saving your model as an HDF5 file via `model.save()` or `keras.saving.save_model(model)`. This file format is considered legacy. We recommend using instead the native Keras format, e.g. `model.save('my_model.keras')` or `keras.saving.save_model(model, 'my_model.keras')`. \n"
     ]
    }
   ],
   "source": [
    "model.save(\"/Users/seydaaybar/Desktop/ntt_data/models/lstm_model.h5\")"
   ]
  },
  {
   "cell_type": "code",
   "execution_count": 17,
   "id": "49798ef8",
   "metadata": {},
   "outputs": [
    {
     "name": "stdout",
     "output_type": "stream",
     "text": [
      "RMSE on validation set: 4.130954848532821\n"
     ]
    }
   ],
   "source": [
    "from sklearn.metrics import mean_squared_error\n",
    "from numpy import sqrt\n",
    "\n",
    "rmse = sqrt(mean_squared_error(np.expm1(y_val_lstm), pred_original))\n",
    "print(\"RMSE on validation set:\", rmse)\n"
   ]
  },
  {
   "cell_type": "code",
   "execution_count": null,
   "id": "081c76c5",
   "metadata": {},
   "outputs": [],
   "source": []
  }
 ],
 "metadata": {
  "kernelspec": {
   "display_name": "seyda_works310",
   "language": "python",
   "name": "python3"
  },
  "language_info": {
   "codemirror_mode": {
    "name": "ipython",
    "version": 3
   },
   "file_extension": ".py",
   "mimetype": "text/x-python",
   "name": "python",
   "nbconvert_exporter": "python",
   "pygments_lexer": "ipython3",
   "version": "3.10.16"
  }
 },
 "nbformat": 4,
 "nbformat_minor": 5
}
